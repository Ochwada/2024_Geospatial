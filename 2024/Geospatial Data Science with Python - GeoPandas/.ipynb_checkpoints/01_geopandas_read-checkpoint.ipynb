{
 "cells": [
  {
   "cell_type": "markdown",
   "metadata": {},
   "source": [
    "# Reading data into GeoPandas\n",
    "\n",
    "## Review\n",
    "\n",
    "Basic data structure in GeoPandas is a GeoDataFrame.\n",
    "\n",
    "A GeoDataFrame is simply a regular Pandas data frame with the addition of a GeoSeries\n",
    "\n",
    "A series in Pandas is analagous to a field in a database or a column in a table or an attribute in a feature dataset.\n",
    "\n",
    "A GeoSeries is a special type of column that contains vector geometry.\n",
    "\n",
    "The geometries are handled internally as Shapely object\n",
    "\n",
    "## Reading from single layer files\n",
    "\n",
    "GeoPandas uses Fiona under the hood to read geospatial data into GeoDataFrames\n",
    "\n",
    "GeoPandas can also read directly from a PostGIS database\n",
    "\n",
    "### Reading Shapefiles\n"
   ]
  },
  {
   "cell_type": "code",
   "execution_count": 1,
   "metadata": {},
   "outputs": [],
   "source": [
    "%matplotlib inline\n",
    "import geopandas as gpd\n",
    "import matplotlib.pyplot as plt"
   ]
  },
  {
   "cell_type": "code",
   "execution_count": 2,
   "metadata": {},
   "outputs": [],
   "source": [
    "raptors = gpd.read_file(\"data/Raptor_Nests.shp\")"
   ]
  },
  {
   "cell_type": "markdown",
   "metadata": {},
   "source": [
    "View the GeoDataFrame as an attribute table"
   ]
  },
  {
   "cell_type": "code",
   "execution_count": 3,
   "metadata": {},
   "outputs": [
    {
     "data": {
      "text/html": [
       "<div>\n",
       "<style scoped>\n",
       "    .dataframe tbody tr th:only-of-type {\n",
       "        vertical-align: middle;\n",
       "    }\n",
       "\n",
       "    .dataframe tbody tr th {\n",
       "        vertical-align: top;\n",
       "    }\n",
       "\n",
       "    .dataframe thead th {\n",
       "        text-align: right;\n",
       "    }\n",
       "</style>\n",
       "<table border=\"1\" class=\"dataframe\">\n",
       "  <thead>\n",
       "    <tr style=\"text-align: right;\">\n",
       "      <th></th>\n",
       "      <th>postgis_fi</th>\n",
       "      <th>lat_y_dd</th>\n",
       "      <th>long_x_dd</th>\n",
       "      <th>lastsurvey</th>\n",
       "      <th>recentspec</th>\n",
       "      <th>recentstat</th>\n",
       "      <th>Nest_ID</th>\n",
       "      <th>geometry</th>\n",
       "    </tr>\n",
       "  </thead>\n",
       "  <tbody>\n",
       "    <tr>\n",
       "      <th>0</th>\n",
       "      <td>361.0</td>\n",
       "      <td>40.267502</td>\n",
       "      <td>-104.870872</td>\n",
       "      <td>2012-03-16</td>\n",
       "      <td>Swainsons Hawk</td>\n",
       "      <td>INACTIVE NEST</td>\n",
       "      <td>361</td>\n",
       "      <td>POINT (-104.79595 40.29891)</td>\n",
       "    </tr>\n",
       "    <tr>\n",
       "      <th>1</th>\n",
       "      <td>362.0</td>\n",
       "      <td>40.264321</td>\n",
       "      <td>-104.860255</td>\n",
       "      <td>2012-03-16</td>\n",
       "      <td>Swainsons Hawk</td>\n",
       "      <td>INACTIVE NEST</td>\n",
       "      <td>362</td>\n",
       "      <td>POINT (-104.78897 40.22089)</td>\n",
       "    </tr>\n",
       "    <tr>\n",
       "      <th>2</th>\n",
       "      <td>1.0</td>\n",
       "      <td>38.650081</td>\n",
       "      <td>-105.494251</td>\n",
       "      <td>2014-07-28</td>\n",
       "      <td>Swainsons Hawk</td>\n",
       "      <td>INACTIVE NEST</td>\n",
       "      <td>1</td>\n",
       "      <td>POINT (-105.50223 38.68694)</td>\n",
       "    </tr>\n",
       "    <tr>\n",
       "      <th>3</th>\n",
       "      <td>2.0</td>\n",
       "      <td>40.309574</td>\n",
       "      <td>-104.932604</td>\n",
       "      <td>2011-01-06</td>\n",
       "      <td>Swainsons Hawk</td>\n",
       "      <td>INACTIVE NEST</td>\n",
       "      <td>2</td>\n",
       "      <td>POINT (-104.84889 40.35215)</td>\n",
       "    </tr>\n",
       "    <tr>\n",
       "      <th>4</th>\n",
       "      <td>3.0</td>\n",
       "      <td>40.219343</td>\n",
       "      <td>-104.729246</td>\n",
       "      <td>2014-07-03</td>\n",
       "      <td>Swainsons Hawk</td>\n",
       "      <td>ACTIVE NEST</td>\n",
       "      <td>3</td>\n",
       "      <td>POINT (-104.74466 40.18571)</td>\n",
       "    </tr>\n",
       "  </tbody>\n",
       "</table>\n",
       "</div>"
      ],
      "text/plain": [
       "   postgis_fi   lat_y_dd   long_x_dd  lastsurvey      recentspec  \\\n",
       "0       361.0  40.267502 -104.870872  2012-03-16  Swainsons Hawk   \n",
       "1       362.0  40.264321 -104.860255  2012-03-16  Swainsons Hawk   \n",
       "2         1.0  38.650081 -105.494251  2014-07-28  Swainsons Hawk   \n",
       "3         2.0  40.309574 -104.932604  2011-01-06  Swainsons Hawk   \n",
       "4         3.0  40.219343 -104.729246  2014-07-03  Swainsons Hawk   \n",
       "\n",
       "      recentstat  Nest_ID                     geometry  \n",
       "0  INACTIVE NEST      361  POINT (-104.79595 40.29891)  \n",
       "1  INACTIVE NEST      362  POINT (-104.78897 40.22089)  \n",
       "2  INACTIVE NEST        1  POINT (-105.50223 38.68694)  \n",
       "3  INACTIVE NEST        2  POINT (-104.84889 40.35215)  \n",
       "4    ACTIVE NEST        3  POINT (-104.74466 40.18571)  "
      ]
     },
     "execution_count": 3,
     "metadata": {},
     "output_type": "execute_result"
    }
   ],
   "source": [
    "raptors.head(5)"
   ]
  },
  {
   "cell_type": "code",
   "execution_count": 4,
   "metadata": {},
   "outputs": [
    {
     "data": {
      "text/html": [
       "<div>\n",
       "<style scoped>\n",
       "    .dataframe tbody tr th:only-of-type {\n",
       "        vertical-align: middle;\n",
       "    }\n",
       "\n",
       "    .dataframe tbody tr th {\n",
       "        vertical-align: top;\n",
       "    }\n",
       "\n",
       "    .dataframe thead th {\n",
       "        text-align: right;\n",
       "    }\n",
       "</style>\n",
       "<table border=\"1\" class=\"dataframe\">\n",
       "  <thead>\n",
       "    <tr style=\"text-align: right;\">\n",
       "      <th></th>\n",
       "      <th>postgis_fi</th>\n",
       "      <th>lat_y_dd</th>\n",
       "      <th>long_x_dd</th>\n",
       "      <th>lastsurvey</th>\n",
       "      <th>recentspec</th>\n",
       "      <th>recentstat</th>\n",
       "      <th>Nest_ID</th>\n",
       "      <th>geometry</th>\n",
       "    </tr>\n",
       "  </thead>\n",
       "  <tbody>\n",
       "    <tr>\n",
       "      <th>869</th>\n",
       "      <td>906.0</td>\n",
       "      <td>40.051193</td>\n",
       "      <td>-104.794308</td>\n",
       "      <td>2015-08-17</td>\n",
       "      <td>Red-tail Hawk</td>\n",
       "      <td>INACTIVE NEST</td>\n",
       "      <td>906</td>\n",
       "      <td>POINT (-104.76127 40.07742)</td>\n",
       "    </tr>\n",
       "    <tr>\n",
       "      <th>870</th>\n",
       "      <td>907.0</td>\n",
       "      <td>39.995541</td>\n",
       "      <td>-104.891149</td>\n",
       "      <td>2015-08-18</td>\n",
       "      <td>Red-tail Hawk</td>\n",
       "      <td>INACTIVE NEST</td>\n",
       "      <td>907</td>\n",
       "      <td>POINT (-104.81692 40.02965)</td>\n",
       "    </tr>\n",
       "    <tr>\n",
       "      <th>871</th>\n",
       "      <td>908.0</td>\n",
       "      <td>39.996516</td>\n",
       "      <td>-104.891649</td>\n",
       "      <td>2015-08-18</td>\n",
       "      <td>Red-tail Hawk</td>\n",
       "      <td>INACTIVE NEST</td>\n",
       "      <td>908</td>\n",
       "      <td>POINT (-104.93254 40.03877)</td>\n",
       "    </tr>\n",
       "    <tr>\n",
       "      <th>872</th>\n",
       "      <td>909.0</td>\n",
       "      <td>39.999138</td>\n",
       "      <td>-104.899116</td>\n",
       "      <td>2015-08-18</td>\n",
       "      <td>Swainsons Hawk</td>\n",
       "      <td>INACTIVE NEST</td>\n",
       "      <td>909</td>\n",
       "      <td>POINT (-104.91958 40.00116)</td>\n",
       "    </tr>\n",
       "    <tr>\n",
       "      <th>873</th>\n",
       "      <td>910.0</td>\n",
       "      <td>40.002516</td>\n",
       "      <td>-104.893713</td>\n",
       "      <td>2015-08-18</td>\n",
       "      <td>Red-tail Hawk</td>\n",
       "      <td>INACTIVE NEST</td>\n",
       "      <td>910</td>\n",
       "      <td>POINT (-104.83619 39.98674)</td>\n",
       "    </tr>\n",
       "    <tr>\n",
       "      <th>874</th>\n",
       "      <td>911.0</td>\n",
       "      <td>40.006950</td>\n",
       "      <td>-104.894370</td>\n",
       "      <td>2015-08-18</td>\n",
       "      <td>Red-tail Hawk</td>\n",
       "      <td>INACTIVE NEST</td>\n",
       "      <td>911</td>\n",
       "      <td>POINT (-104.98394 40.00297)</td>\n",
       "    </tr>\n",
       "    <tr>\n",
       "      <th>875</th>\n",
       "      <td>912.0</td>\n",
       "      <td>39.998876</td>\n",
       "      <td>-104.900128</td>\n",
       "      <td>2015-09-01</td>\n",
       "      <td>Red-tail Hawk</td>\n",
       "      <td>INACTIVE NEST</td>\n",
       "      <td>912</td>\n",
       "      <td>POINT (-104.84766 39.96975)</td>\n",
       "    </tr>\n",
       "    <tr>\n",
       "      <th>876</th>\n",
       "      <td>NaN</td>\n",
       "      <td>NaN</td>\n",
       "      <td>NaN</td>\n",
       "      <td>2020-05-08</td>\n",
       "      <td>Northern Harrier</td>\n",
       "      <td>INACTIVE NEST</td>\n",
       "      <td>9991</td>\n",
       "      <td>POINT (-104.95039 40.24432)</td>\n",
       "    </tr>\n",
       "    <tr>\n",
       "      <th>877</th>\n",
       "      <td>NaN</td>\n",
       "      <td>NaN</td>\n",
       "      <td>NaN</td>\n",
       "      <td>2020-05-05</td>\n",
       "      <td>SWHA</td>\n",
       "      <td>INACTIVE NEST</td>\n",
       "      <td>1001</td>\n",
       "      <td>POINT (-104.94502 40.24443)</td>\n",
       "    </tr>\n",
       "    <tr>\n",
       "      <th>878</th>\n",
       "      <td>NaN</td>\n",
       "      <td>40.243865</td>\n",
       "      <td>-104.937170</td>\n",
       "      <td>None</td>\n",
       "      <td>RTHA</td>\n",
       "      <td>FLEDGED NEST</td>\n",
       "      <td>1002</td>\n",
       "      <td>POINT (-104.93717 40.24387)</td>\n",
       "    </tr>\n",
       "  </tbody>\n",
       "</table>\n",
       "</div>"
      ],
      "text/plain": [
       "     postgis_fi   lat_y_dd   long_x_dd  lastsurvey        recentspec  \\\n",
       "869       906.0  40.051193 -104.794308  2015-08-17     Red-tail Hawk   \n",
       "870       907.0  39.995541 -104.891149  2015-08-18     Red-tail Hawk   \n",
       "871       908.0  39.996516 -104.891649  2015-08-18     Red-tail Hawk   \n",
       "872       909.0  39.999138 -104.899116  2015-08-18    Swainsons Hawk   \n",
       "873       910.0  40.002516 -104.893713  2015-08-18     Red-tail Hawk   \n",
       "874       911.0  40.006950 -104.894370  2015-08-18     Red-tail Hawk   \n",
       "875       912.0  39.998876 -104.900128  2015-09-01     Red-tail Hawk   \n",
       "876         NaN        NaN         NaN  2020-05-08  Northern Harrier   \n",
       "877         NaN        NaN         NaN  2020-05-05              SWHA   \n",
       "878         NaN  40.243865 -104.937170        None              RTHA   \n",
       "\n",
       "        recentstat  Nest_ID                     geometry  \n",
       "869  INACTIVE NEST      906  POINT (-104.76127 40.07742)  \n",
       "870  INACTIVE NEST      907  POINT (-104.81692 40.02965)  \n",
       "871  INACTIVE NEST      908  POINT (-104.93254 40.03877)  \n",
       "872  INACTIVE NEST      909  POINT (-104.91958 40.00116)  \n",
       "873  INACTIVE NEST      910  POINT (-104.83619 39.98674)  \n",
       "874  INACTIVE NEST      911  POINT (-104.98394 40.00297)  \n",
       "875  INACTIVE NEST      912  POINT (-104.84766 39.96975)  \n",
       "876  INACTIVE NEST     9991  POINT (-104.95039 40.24432)  \n",
       "877  INACTIVE NEST     1001  POINT (-104.94502 40.24443)  \n",
       "878   FLEDGED NEST     1002  POINT (-104.93717 40.24387)  "
      ]
     },
     "execution_count": 4,
     "metadata": {},
     "output_type": "execute_result"
    }
   ],
   "source": [
    "raptors.tail(10)"
   ]
  },
  {
   "cell_type": "markdown",
   "metadata": {},
   "source": [
    "View the GeoDataFrame as a map"
   ]
  },
  {
   "cell_type": "code",
   "execution_count": 5,
   "metadata": {},
   "outputs": [
    {
     "data": {
      "image/png": "[encoded data removed]",
      "text/plain": [
       "<Figure size 640x480 with 1 Axes>"
      ]
     },
     "metadata": {},
     "output_type": "display_data"
    }
   ],
   "source": [
    "raptors.plot()\n",
    "plt.show()"
   ]
  },
  {
   "cell_type": "code",
   "execution_count": 14,
   "metadata": {},
   "outputs": [
    {
     "ename": "ValueError",
     "evalue": "not enough values to unpack (expected 2, got 0)",
     "output_type": "error",
     "traceback": [
      "\u001b[0;31m---------------------------------------------------------------------------\u001b[0m",
      "\u001b[0;31mValueError\u001b[0m                                Traceback (most recent call last)",
      "Cell \u001b[0;32mIn[14], line 1\u001b[0m\n\u001b[0;32m----> 1\u001b[0m fig, ax \u001b[38;5;241m=\u001b[39m plt\u001b[38;5;241m.\u001b[39mplot(figsize \u001b[38;5;241m=\u001b[39m (\u001b[38;5;241m10\u001b[39m, \u001b[38;5;241m10\u001b[39m))\n\u001b[1;32m      2\u001b[0m raptors\u001b[38;5;241m.\u001b[39mplot(ax\u001b[38;5;241m=\u001b[39max)\n\u001b[1;32m      3\u001b[0m plt\u001b[38;5;241m.\u001b[39mshow()\n",
      "\u001b[0;31mValueError\u001b[0m: not enough values to unpack (expected 2, got 0)"
     ]
    }
   ],
   "source": [
    "fig, ax = plt.subplots(figsize=(10, 10))\n",
    "raptors.plot(ax=ax)\n",
    "plt.show()\n"
   ]
  },
  {
   "cell_type": "markdown",
   "metadata": {},
   "source": [
    "View the map with colors determined by a column value"
   ]
  },
  {
   "cell_type": "code",
   "execution_count": null,
   "metadata": {},
   "outputs": [],
   "source": [
    "raptors.plot(column = \"recentstat\", legend=True, figsize=(10, 10))"
   ]
  },
  {
   "cell_type": "markdown",
   "metadata": {},
   "source": [
    "Get basic information about a GeoDataFrame using the info method\n",
    "\n",
    "Remember that GeoPandas is based on Pandas and Pandas uses NumPy behind the scenes and NumPy is written in C and uses C data types.\n",
    "\n",
    "Because of this the Data Type (Dtype) column displays C data types and string and date types are viewed as objects in C."
   ]
  },
  {
   "cell_type": "code",
   "execution_count": null,
   "metadata": {},
   "outputs": [],
   "source": [
    "raptors.info()"
   ]
  },
  {
   "cell_type": "markdown",
   "metadata": {},
   "source": [
    "You can also get information about the GeoDataFrame's Coordinate Reference System"
   ]
  },
  {
   "cell_type": "code",
   "execution_count": null,
   "metadata": {},
   "outputs": [],
   "source": [
    "raptors.crs"
   ]
  },
  {
   "cell_type": "markdown",
   "metadata": {},
   "source": [
    "We can of course, view the same data in UTM Zone 13 CRS if we have that information available"
   ]
  },
  {
   "cell_type": "code",
   "execution_count": null,
   "metadata": {},
   "outputs": [],
   "source": [
    "raptors_utm = gpd.read_file(\"data/Raptor_UTM.shp\")"
   ]
  },
  {
   "cell_type": "code",
   "execution_count": null,
   "metadata": {},
   "outputs": [],
   "source": [
    "raptors_utm.crs"
   ]
  },
  {
   "cell_type": "markdown",
   "metadata": {},
   "source": [
    "And if we plot it out it seems to be the same data, but the values in the X and Y axes are different because the coordinates are now in UTM"
   ]
  },
  {
   "cell_type": "code",
   "execution_count": null,
   "metadata": {},
   "outputs": [],
   "source": [
    "raptors_utm.plot(column=\"recentstat\", legend=True, figsize=(10, 10))"
   ]
  },
  {
   "cell_type": "markdown",
   "metadata": {},
   "source": [
    "But with GeoPandas it is very easy to convert to a different coordinate reference system using the GeoDataFrames to_crs method"
   ]
  },
  {
   "cell_type": "code",
   "execution_count": null,
   "metadata": {},
   "outputs": [],
   "source": [
    "raptors_utm2 = raptors.to_crs(epsg=26913)"
   ]
  },
  {
   "cell_type": "code",
   "execution_count": null,
   "metadata": {},
   "outputs": [],
   "source": [
    "raptors_utm2.crs"
   ]
  },
  {
   "cell_type": "code",
   "execution_count": null,
   "metadata": {},
   "outputs": [],
   "source": [
    "raptors_utm2.plot(column=\"recentstat\", legend=True, figsize=(10, 10))"
   ]
  },
  {
   "cell_type": "markdown",
   "metadata": {},
   "source": [
    "### Reading data from a GeoJSON file\n",
    "\n",
    "Not really different than reading data from a shapefile"
   ]
  },
  {
   "cell_type": "code",
   "execution_count": null,
   "metadata": {},
   "outputs": [],
   "source": [
    "raptors_jsn = gpd.read_file(\"data/wildlife_raptor.geojson\")"
   ]
  },
  {
   "cell_type": "code",
   "execution_count": null,
   "metadata": {},
   "outputs": [],
   "source": [
    "raptors_jsn.crs"
   ]
  },
  {
   "cell_type": "code",
   "execution_count": null,
   "metadata": {},
   "outputs": [],
   "source": [
    "raptors_jsn.plot(figsize=(10,10))"
   ]
  },
  {
   "cell_type": "code",
   "execution_count": null,
   "metadata": {},
   "outputs": [],
   "source": [
    "raptors_jsn.info()"
   ]
  },
  {
   "cell_type": "markdown",
   "metadata": {},
   "source": [
    "By now you may be thinking looks great for points but what about polygons?"
   ]
  },
  {
   "cell_type": "code",
   "execution_count": null,
   "metadata": {},
   "outputs": [],
   "source": [
    "buowl = gpd.read_file(\"data/wildlife_buowl.geojson\")"
   ]
  },
  {
   "cell_type": "code",
   "execution_count": null,
   "metadata": {},
   "outputs": [],
   "source": [
    "buowl.crs"
   ]
  },
  {
   "cell_type": "code",
   "execution_count": null,
   "metadata": {},
   "outputs": [],
   "source": [
    "buowl.info()"
   ]
  },
  {
   "cell_type": "code",
   "execution_count": null,
   "metadata": {},
   "outputs": [],
   "source": [
    "buowl.plot(column=\"recentstatus\", legend=True, figsize=(10,10))"
   ]
  },
  {
   "cell_type": "code",
   "execution_count": null,
   "metadata": {},
   "outputs": [],
   "source": [
    "buowl"
   ]
  },
  {
   "cell_type": "markdown",
   "metadata": {},
   "source": [
    "## Reading layers from a multi-layer file\n",
    "\n",
    "Not fundamentally different from a single layer file, you just need to specify the name of the layer\n",
    "\n",
    "### Reading data from a geopackage"
   ]
  },
  {
   "cell_type": "code",
   "execution_count": null,
   "metadata": {},
   "outputs": [],
   "source": [
    "eagles = gpd.read_file(\"data/DJBasin.gpkg\")"
   ]
  },
  {
   "cell_type": "code",
   "execution_count": null,
   "metadata": {},
   "outputs": [],
   "source": [
    "eagles.info()"
   ]
  },
  {
   "cell_type": "markdown",
   "metadata": {},
   "source": [
    "Will read the first layer in the geopackage.\n",
    "\n",
    "But what if you want to read a specific layer?\n",
    "What if you don't know what layers are contained in the layer?"
   ]
  },
  {
   "cell_type": "code",
   "execution_count": null,
   "metadata": {},
   "outputs": [],
   "source": [
    "import fiona\n",
    "fiona.listlayers(\"data/DJBasin.gpkg\")"
   ]
  },
  {
   "cell_type": "code",
   "execution_count": null,
   "metadata": {},
   "outputs": [],
   "source": [
    "eagles = gpd.read_file(\"data/DJBasin.gpkg\", layer = \"BAEA_Nests\")"
   ]
  },
  {
   "cell_type": "code",
   "execution_count": null,
   "metadata": {},
   "outputs": [],
   "source": [
    "eagles.info()"
   ]
  },
  {
   "cell_type": "code",
   "execution_count": null,
   "metadata": {},
   "outputs": [],
   "source": [
    "eagles.plot(column=\"status\", legend=True, figsize=(10,10))"
   ]
  },
  {
   "cell_type": "markdown",
   "metadata": {},
   "source": [
    "If you want, you can read all of the layers at once into a dictionary that has the layer name as the key"
   ]
  },
  {
   "cell_type": "code",
   "execution_count": null,
   "metadata": {},
   "outputs": [],
   "source": [
    "layers = {} # create an empty dictionary named layers\n",
    "for lyr in fiona.listlayers(\"data/DJBasin.gpkg\"): # loop through the layers in the file\n",
    "    # add a new entry to the layers dictionary with the layer name as the key and the GeoDataFrame as the value\n",
    "    layers[lyr] = gpd.read_file(\"data/DJBasin.gpkg\", layer = lyr) "
   ]
  },
  {
   "cell_type": "code",
   "execution_count": null,
   "metadata": {},
   "outputs": [],
   "source": [
    "layers[\"BAEA_Nests\"].plot()"
   ]
  },
  {
   "cell_type": "markdown",
   "metadata": {},
   "source": [
    "### Read data from a file geodatabase\n",
    "\n",
    "First lets list the layers in the database"
   ]
  },
  {
   "cell_type": "code",
   "execution_count": null,
   "metadata": {},
   "outputs": [],
   "source": [
    "fiona.listlayers(\"data/DJBasin.gdb\")"
   ]
  },
  {
   "cell_type": "markdown",
   "metadata": {},
   "source": [
    "Now we can read the layers just like we read the geopackage layer"
   ]
  },
  {
   "cell_type": "code",
   "execution_count": null,
   "metadata": {},
   "outputs": [],
   "source": [
    "gbh = gpd.read_file(\"data/DJBasin.gdb\", layer = \"Heron_Rookeries\")"
   ]
  },
  {
   "cell_type": "code",
   "execution_count": null,
   "metadata": {},
   "outputs": [],
   "source": [
    "gbh.crs"
   ]
  },
  {
   "cell_type": "code",
   "execution_count": null,
   "metadata": {},
   "outputs": [],
   "source": [
    "gbh.info()"
   ]
  },
  {
   "cell_type": "code",
   "execution_count": null,
   "metadata": {},
   "outputs": [],
   "source": [
    "gbh.plot(figsize=(10,10))"
   ]
  },
  {
   "cell_type": "markdown",
   "metadata": {},
   "source": [
    "## Read data from a PostGIS database\n",
    "\n",
    "To me this is the ultimate combination. Besides the fact that PostGIS will provide the best performance and most features of any storage format, if you know basic Spatial SQL you can do a lot of data manipulation on the fly using SQL b efore the data even comes into GeoPandas and thus you can save yourself a lot of steps when it comes to cleaning data.\n",
    "\n",
    "Reading data from a PostGIS database requires a database connection object that is easily created with the psycopg modules that we installed along with GeoPandas.\n",
    "\n",
    "First we import psycopg2"
   ]
  },
  {
   "cell_type": "code",
   "execution_count": null,
   "metadata": {},
   "outputs": [],
   "source": [
    "import psycopg2"
   ]
  },
  {
   "cell_type": "markdown",
   "metadata": {},
   "source": [
    "Next we create a database connection object"
   ]
  },
  {
   "cell_type": "code",
   "execution_count": null,
   "metadata": {},
   "outputs": [],
   "source": [
    "try:\n",
    "    conn = psycopg2.connect(\"dbname='korimage_enterprise' user='korimage_reader' host='www.korimageo.com' password='reader'\")\n",
    "except:\n",
    "    print(\"I am unable to connect to the database\")"
   ]
  },
  {
   "cell_type": "markdown",
   "metadata": {},
   "source": [
    "Finally we submit a SQL query to the database using the GeoPandas read_postgis method"
   ]
  },
  {
   "cell_type": "code",
   "execution_count": null,
   "metadata": {},
   "outputs": [],
   "source": [
    "eagles = gpd.read_postgis(\"SELECT gid, lat_y_dd AS latitude, long_x_dd AS longitude, status, nest_id, geom FROM dj_eagle WHERE gid <=70 AND status = 'ACTIVE NEST'\", conn)"
   ]
  },
  {
   "cell_type": "code",
   "execution_count": null,
   "metadata": {},
   "outputs": [],
   "source": [
    "eagles.info()"
   ]
  },
  {
   "cell_type": "code",
   "execution_count": null,
   "metadata": {},
   "outputs": [],
   "source": [
    "eagles.plot()"
   ]
  },
  {
   "cell_type": "code",
   "execution_count": null,
   "metadata": {},
   "outputs": [],
   "source": [
    "import pandas as pd\n",
    "eagle_table = pd.read_sql_query(\"SELECT gid, lat_y_dd AS latitude, long_x_dd AS longitude, status, nest_id, geom FROM dj_eagle WHERE gid <=70\", conn)"
   ]
  },
  {
   "cell_type": "code",
   "execution_count": null,
   "metadata": {},
   "outputs": [],
   "source": [
    "eagle_table.plot()"
   ]
  },
  {
   "cell_type": "code",
   "execution_count": null,
   "metadata": {},
   "outputs": [],
   "source": [
    "%who_ls GeoDataFrame"
   ]
  },
  {
   "cell_type": "code",
   "execution_count": null,
   "metadata": {},
   "outputs": [],
   "source": []
  }
 ],
 "metadata": {
  "kernelspec": {
   "display_name": "Python 3 (ipykernel)",
   "language": "python",
   "name": "python3"
  },
  "language_info": {
   "codemirror_mode": {
    "name": "ipython",
    "version": 3
   },
   "file_extension": ".py",
   "mimetype": "text/x-python",
   "name": "python",
   "nbconvert_exporter": "python",
   "pygments_lexer": "ipython3",
   "version": "3.10.16"
  }
 },
 "nbformat": 4,
 "nbformat_minor": 4
}
